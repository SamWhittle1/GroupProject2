{
  "nbformat": 4,
  "nbformat_minor": 0,
  "metadata": {
    "colab": {
      "name": "Copy of GroupAssignment2.ipynb",
      "provenance": [],
      "include_colab_link": true
    },
    "kernelspec": {
      "name": "python3",
      "display_name": "Python 3"
    }
  },
  "cells": [
    {
      "cell_type": "markdown",
      "metadata": {
        "id": "view-in-github",
        "colab_type": "text"
      },
      "source": [
        "<a href=\"https://colab.research.google.com/github/SamWhittle1/GroupProject2/blob/main/Copy_of_GroupAssignment2.ipynb\" target=\"_parent\"><img src=\"https://colab.research.google.com/assets/colab-badge.svg\" alt=\"Open In Colab\"/></a>"
      ]
    },
    {
      "cell_type": "markdown",
      "metadata": {
        "id": "Dzjxqc-m6it0"
      },
      "source": [
        "![ER Diagram](https://raw.githubusercontent.com/SamWhittle1/GroupProject2/main/images/ER%20diagram.png)"
      ]
    },
    {
      "cell_type": "markdown",
      "metadata": {
        "id": "cgJn-EPtAWAl"
      },
      "source": [
        ""
      ]
    },
    {
      "cell_type": "markdown",
      "metadata": {
        "id": "26JHP8TgghrQ"
      },
      "source": [
        "  Our idea is to make a database that consolidates data that can be collected from libraries. We think it could be interesting to see what trends can appear with that data. To do this, we constructed six entities, sections, programs, people, staff books, and checkout and assigned them with their appropriate attributes.\n",
        "\n",
        "  In constructing the diagram, the previous Checkout table had three attributes: serial#, card#, and date. The Books table had serial# as its primary key and the People table had card# as its primary key. To keep the entities in First Normal Form, card# and serial# were made the primary keys and foreign keys under the checkout table. These primary keys connect with the primary keys of the Books and the People table. In the Staff Table, the attributes were narrowed down to the names of the employees in different positions of the library to avoid multi-valued attributes. The rest of the entities each had a primary key that associated and connected with another entity by utilizing a relevant relationship verb.\n",
        "\n",
        "  Our database is unique because it takes into account both age and program participation when looking into a member’s account. We think adding these data points would be useful because it could help determine which groups are least active and which programs are least successful. Then the organization in charge of the library can do something to change that trend. Our database is based on a normal library system. We just added a few specifications to our database that could help narrow down specific trends in data. At our library, a typical day to day interaction roughly follows the following: Staff come in and conduct programs, such as Media Lab, a book club, or a kids summer reading program. Many sections in the library have said programs. In these sections are many books, each with their genre, serial #, and title. Many of the programs engage various people. Said people also check out books, which can change on a day to day basis. Our goal is to make a database that allows us to see how many books a person checked out, their age, and if they’re involved in any extra programs. We can also use this data to see which types of books are most popular at the moment with different age groups, the number of books each age group checks out, and if the programs encourage any trends."
      ]
    }
  ]
}